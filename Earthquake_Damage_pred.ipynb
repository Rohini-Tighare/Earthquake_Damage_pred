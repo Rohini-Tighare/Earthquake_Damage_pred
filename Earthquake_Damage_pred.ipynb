{
 "cells": [
  {
   "cell_type": "code",
   "execution_count": 37,
   "id": "090c01d3",
   "metadata": {},
   "outputs": [],
   "source": [
    "import pandas as pd"
   ]
  },
  {
   "cell_type": "code",
   "execution_count": 38,
   "id": "1f93c58b",
   "metadata": {},
   "outputs": [],
   "source": [
    "ei = pd.read_csv(r\"C:\\Users\\Asus\\OneDrive\\Desktop\\earthquake damage.csv\")"
   ]
  },
  {
   "cell_type": "code",
   "execution_count": 39,
   "id": "e3dac103",
   "metadata": {},
   "outputs": [
    {
     "data": {
      "text/plain": [
       "(260601, 41)"
      ]
     },
     "execution_count": 39,
     "metadata": {},
     "output_type": "execute_result"
    }
   ],
   "source": [
    "ei.shape"
   ]
  },
  {
   "cell_type": "code",
   "execution_count": 40,
   "id": "2e12a283",
   "metadata": {
    "scrolled": false
   },
   "outputs": [
    {
     "data": {
      "text/plain": [
       "building_id                                    0\n",
       "geo_level_1_id                                 0\n",
       "geo_level_2_id                                 0\n",
       "geo_level_3_id                                 0\n",
       "count_floors_pre_eq                            0\n",
       "age                                            0\n",
       "area_percentage                                0\n",
       "height_percentage                              0\n",
       "land_surface_condition                         0\n",
       "foundation_type                                0\n",
       "roof_type                                      0\n",
       "ground_floor_type                              0\n",
       "other_floor_type                               0\n",
       "position                                       0\n",
       "plan_configuration                             0\n",
       "has_superstructure_adobe_mud                   0\n",
       "has_superstructure_mud_mortar_stone            0\n",
       "has_superstructure_stone_flag                  0\n",
       "has_superstructure_cement_mortar_stone         0\n",
       "has_superstructure_mud_mortar_brick            0\n",
       "has_superstructure_cement_mortar_brick         0\n",
       "has_superstructure_timber                      0\n",
       "has_superstructure_bamboo                      0\n",
       "has_superstructure_rc_non_engineered           0\n",
       "has_superstructure_rc_engineered               0\n",
       "has_superstructure_other                       0\n",
       "legal_ownership_status                         0\n",
       "count_families                                 0\n",
       "has_secondary_use                              0\n",
       "has_secondary_use_agriculture                  0\n",
       "has_secondary_use_hotel                        0\n",
       "has_secondary_use_rental                       0\n",
       "has_secondary_use_institution                  0\n",
       "has_secondary_use_school                       0\n",
       "has_secondary_use_industry                     0\n",
       "has_secondary_use_health_post                  0\n",
       "has_secondary_use_gov_office                   0\n",
       "has_secondary_use_use_police                   0\n",
       "has_secondary_use_other                        0\n",
       "Unnamed: 39                               260601\n",
       "damage_grade                                   0\n",
       "dtype: int64"
      ]
     },
     "execution_count": 40,
     "metadata": {},
     "output_type": "execute_result"
    }
   ],
   "source": [
    "ei.isnull().sum()"
   ]
  },
  {
   "cell_type": "code",
   "execution_count": 41,
   "id": "36be16c3",
   "metadata": {},
   "outputs": [
    {
     "data": {
      "text/html": [
       "<div>\n",
       "<style scoped>\n",
       "    .dataframe tbody tr th:only-of-type {\n",
       "        vertical-align: middle;\n",
       "    }\n",
       "\n",
       "    .dataframe tbody tr th {\n",
       "        vertical-align: top;\n",
       "    }\n",
       "\n",
       "    .dataframe thead th {\n",
       "        text-align: right;\n",
       "    }\n",
       "</style>\n",
       "<table border=\"1\" class=\"dataframe\">\n",
       "  <thead>\n",
       "    <tr style=\"text-align: right;\">\n",
       "      <th></th>\n",
       "      <th>building_id</th>\n",
       "      <th>geo_level_1_id</th>\n",
       "      <th>geo_level_2_id</th>\n",
       "      <th>geo_level_3_id</th>\n",
       "      <th>count_floors_pre_eq</th>\n",
       "      <th>age</th>\n",
       "      <th>area_percentage</th>\n",
       "      <th>height_percentage</th>\n",
       "      <th>land_surface_condition</th>\n",
       "      <th>foundation_type</th>\n",
       "      <th>...</th>\n",
       "      <th>has_secondary_use_rental</th>\n",
       "      <th>has_secondary_use_institution</th>\n",
       "      <th>has_secondary_use_school</th>\n",
       "      <th>has_secondary_use_industry</th>\n",
       "      <th>has_secondary_use_health_post</th>\n",
       "      <th>has_secondary_use_gov_office</th>\n",
       "      <th>has_secondary_use_use_police</th>\n",
       "      <th>has_secondary_use_other</th>\n",
       "      <th>Unnamed: 39</th>\n",
       "      <th>damage_grade</th>\n",
       "    </tr>\n",
       "  </thead>\n",
       "  <tbody>\n",
       "    <tr>\n",
       "      <th>0</th>\n",
       "      <td>802906</td>\n",
       "      <td>6</td>\n",
       "      <td>487</td>\n",
       "      <td>12198</td>\n",
       "      <td>2</td>\n",
       "      <td>30</td>\n",
       "      <td>6</td>\n",
       "      <td>5</td>\n",
       "      <td>t</td>\n",
       "      <td>r</td>\n",
       "      <td>...</td>\n",
       "      <td>0</td>\n",
       "      <td>0</td>\n",
       "      <td>0</td>\n",
       "      <td>0</td>\n",
       "      <td>0</td>\n",
       "      <td>0</td>\n",
       "      <td>0</td>\n",
       "      <td>0</td>\n",
       "      <td>NaN</td>\n",
       "      <td>3</td>\n",
       "    </tr>\n",
       "    <tr>\n",
       "      <th>1</th>\n",
       "      <td>28830</td>\n",
       "      <td>8</td>\n",
       "      <td>900</td>\n",
       "      <td>2812</td>\n",
       "      <td>2</td>\n",
       "      <td>10</td>\n",
       "      <td>8</td>\n",
       "      <td>7</td>\n",
       "      <td>o</td>\n",
       "      <td>r</td>\n",
       "      <td>...</td>\n",
       "      <td>0</td>\n",
       "      <td>0</td>\n",
       "      <td>0</td>\n",
       "      <td>0</td>\n",
       "      <td>0</td>\n",
       "      <td>0</td>\n",
       "      <td>0</td>\n",
       "      <td>0</td>\n",
       "      <td>NaN</td>\n",
       "      <td>2</td>\n",
       "    </tr>\n",
       "    <tr>\n",
       "      <th>2</th>\n",
       "      <td>94947</td>\n",
       "      <td>21</td>\n",
       "      <td>363</td>\n",
       "      <td>8973</td>\n",
       "      <td>2</td>\n",
       "      <td>10</td>\n",
       "      <td>5</td>\n",
       "      <td>5</td>\n",
       "      <td>t</td>\n",
       "      <td>r</td>\n",
       "      <td>...</td>\n",
       "      <td>0</td>\n",
       "      <td>0</td>\n",
       "      <td>0</td>\n",
       "      <td>0</td>\n",
       "      <td>0</td>\n",
       "      <td>0</td>\n",
       "      <td>0</td>\n",
       "      <td>0</td>\n",
       "      <td>NaN</td>\n",
       "      <td>3</td>\n",
       "    </tr>\n",
       "    <tr>\n",
       "      <th>3</th>\n",
       "      <td>590882</td>\n",
       "      <td>22</td>\n",
       "      <td>418</td>\n",
       "      <td>10694</td>\n",
       "      <td>2</td>\n",
       "      <td>10</td>\n",
       "      <td>6</td>\n",
       "      <td>5</td>\n",
       "      <td>t</td>\n",
       "      <td>r</td>\n",
       "      <td>...</td>\n",
       "      <td>0</td>\n",
       "      <td>0</td>\n",
       "      <td>0</td>\n",
       "      <td>0</td>\n",
       "      <td>0</td>\n",
       "      <td>0</td>\n",
       "      <td>0</td>\n",
       "      <td>0</td>\n",
       "      <td>NaN</td>\n",
       "      <td>2</td>\n",
       "    </tr>\n",
       "    <tr>\n",
       "      <th>4</th>\n",
       "      <td>201944</td>\n",
       "      <td>11</td>\n",
       "      <td>131</td>\n",
       "      <td>1488</td>\n",
       "      <td>3</td>\n",
       "      <td>30</td>\n",
       "      <td>8</td>\n",
       "      <td>9</td>\n",
       "      <td>t</td>\n",
       "      <td>r</td>\n",
       "      <td>...</td>\n",
       "      <td>0</td>\n",
       "      <td>0</td>\n",
       "      <td>0</td>\n",
       "      <td>0</td>\n",
       "      <td>0</td>\n",
       "      <td>0</td>\n",
       "      <td>0</td>\n",
       "      <td>0</td>\n",
       "      <td>NaN</td>\n",
       "      <td>3</td>\n",
       "    </tr>\n",
       "    <tr>\n",
       "      <th>...</th>\n",
       "      <td>...</td>\n",
       "      <td>...</td>\n",
       "      <td>...</td>\n",
       "      <td>...</td>\n",
       "      <td>...</td>\n",
       "      <td>...</td>\n",
       "      <td>...</td>\n",
       "      <td>...</td>\n",
       "      <td>...</td>\n",
       "      <td>...</td>\n",
       "      <td>...</td>\n",
       "      <td>...</td>\n",
       "      <td>...</td>\n",
       "      <td>...</td>\n",
       "      <td>...</td>\n",
       "      <td>...</td>\n",
       "      <td>...</td>\n",
       "      <td>...</td>\n",
       "      <td>...</td>\n",
       "      <td>...</td>\n",
       "      <td>...</td>\n",
       "    </tr>\n",
       "    <tr>\n",
       "      <th>260596</th>\n",
       "      <td>688636</td>\n",
       "      <td>25</td>\n",
       "      <td>1335</td>\n",
       "      <td>1621</td>\n",
       "      <td>1</td>\n",
       "      <td>55</td>\n",
       "      <td>6</td>\n",
       "      <td>3</td>\n",
       "      <td>n</td>\n",
       "      <td>r</td>\n",
       "      <td>...</td>\n",
       "      <td>0</td>\n",
       "      <td>0</td>\n",
       "      <td>0</td>\n",
       "      <td>0</td>\n",
       "      <td>0</td>\n",
       "      <td>0</td>\n",
       "      <td>0</td>\n",
       "      <td>0</td>\n",
       "      <td>NaN</td>\n",
       "      <td>2</td>\n",
       "    </tr>\n",
       "    <tr>\n",
       "      <th>260597</th>\n",
       "      <td>669485</td>\n",
       "      <td>17</td>\n",
       "      <td>715</td>\n",
       "      <td>2060</td>\n",
       "      <td>2</td>\n",
       "      <td>0</td>\n",
       "      <td>6</td>\n",
       "      <td>5</td>\n",
       "      <td>t</td>\n",
       "      <td>r</td>\n",
       "      <td>...</td>\n",
       "      <td>0</td>\n",
       "      <td>0</td>\n",
       "      <td>0</td>\n",
       "      <td>0</td>\n",
       "      <td>0</td>\n",
       "      <td>0</td>\n",
       "      <td>0</td>\n",
       "      <td>0</td>\n",
       "      <td>NaN</td>\n",
       "      <td>3</td>\n",
       "    </tr>\n",
       "    <tr>\n",
       "      <th>260598</th>\n",
       "      <td>602512</td>\n",
       "      <td>17</td>\n",
       "      <td>51</td>\n",
       "      <td>8163</td>\n",
       "      <td>3</td>\n",
       "      <td>55</td>\n",
       "      <td>6</td>\n",
       "      <td>7</td>\n",
       "      <td>t</td>\n",
       "      <td>r</td>\n",
       "      <td>...</td>\n",
       "      <td>0</td>\n",
       "      <td>0</td>\n",
       "      <td>0</td>\n",
       "      <td>0</td>\n",
       "      <td>0</td>\n",
       "      <td>0</td>\n",
       "      <td>0</td>\n",
       "      <td>0</td>\n",
       "      <td>NaN</td>\n",
       "      <td>3</td>\n",
       "    </tr>\n",
       "    <tr>\n",
       "      <th>260599</th>\n",
       "      <td>151409</td>\n",
       "      <td>26</td>\n",
       "      <td>39</td>\n",
       "      <td>1851</td>\n",
       "      <td>2</td>\n",
       "      <td>10</td>\n",
       "      <td>14</td>\n",
       "      <td>6</td>\n",
       "      <td>t</td>\n",
       "      <td>r</td>\n",
       "      <td>...</td>\n",
       "      <td>0</td>\n",
       "      <td>0</td>\n",
       "      <td>0</td>\n",
       "      <td>0</td>\n",
       "      <td>0</td>\n",
       "      <td>0</td>\n",
       "      <td>0</td>\n",
       "      <td>0</td>\n",
       "      <td>NaN</td>\n",
       "      <td>2</td>\n",
       "    </tr>\n",
       "    <tr>\n",
       "      <th>260600</th>\n",
       "      <td>747594</td>\n",
       "      <td>21</td>\n",
       "      <td>9</td>\n",
       "      <td>9101</td>\n",
       "      <td>3</td>\n",
       "      <td>10</td>\n",
       "      <td>7</td>\n",
       "      <td>6</td>\n",
       "      <td>n</td>\n",
       "      <td>r</td>\n",
       "      <td>...</td>\n",
       "      <td>0</td>\n",
       "      <td>0</td>\n",
       "      <td>0</td>\n",
       "      <td>0</td>\n",
       "      <td>0</td>\n",
       "      <td>0</td>\n",
       "      <td>0</td>\n",
       "      <td>0</td>\n",
       "      <td>NaN</td>\n",
       "      <td>3</td>\n",
       "    </tr>\n",
       "  </tbody>\n",
       "</table>\n",
       "<p>260601 rows × 41 columns</p>\n",
       "</div>"
      ],
      "text/plain": [
       "        building_id  geo_level_1_id  geo_level_2_id  geo_level_3_id  \\\n",
       "0            802906               6             487           12198   \n",
       "1             28830               8             900            2812   \n",
       "2             94947              21             363            8973   \n",
       "3            590882              22             418           10694   \n",
       "4            201944              11             131            1488   \n",
       "...             ...             ...             ...             ...   \n",
       "260596       688636              25            1335            1621   \n",
       "260597       669485              17             715            2060   \n",
       "260598       602512              17              51            8163   \n",
       "260599       151409              26              39            1851   \n",
       "260600       747594              21               9            9101   \n",
       "\n",
       "        count_floors_pre_eq  age  area_percentage  height_percentage  \\\n",
       "0                         2   30                6                  5   \n",
       "1                         2   10                8                  7   \n",
       "2                         2   10                5                  5   \n",
       "3                         2   10                6                  5   \n",
       "4                         3   30                8                  9   \n",
       "...                     ...  ...              ...                ...   \n",
       "260596                    1   55                6                  3   \n",
       "260597                    2    0                6                  5   \n",
       "260598                    3   55                6                  7   \n",
       "260599                    2   10               14                  6   \n",
       "260600                    3   10                7                  6   \n",
       "\n",
       "       land_surface_condition foundation_type  ... has_secondary_use_rental  \\\n",
       "0                           t               r  ...                        0   \n",
       "1                           o               r  ...                        0   \n",
       "2                           t               r  ...                        0   \n",
       "3                           t               r  ...                        0   \n",
       "4                           t               r  ...                        0   \n",
       "...                       ...             ...  ...                      ...   \n",
       "260596                      n               r  ...                        0   \n",
       "260597                      t               r  ...                        0   \n",
       "260598                      t               r  ...                        0   \n",
       "260599                      t               r  ...                        0   \n",
       "260600                      n               r  ...                        0   \n",
       "\n",
       "       has_secondary_use_institution has_secondary_use_school  \\\n",
       "0                                  0                        0   \n",
       "1                                  0                        0   \n",
       "2                                  0                        0   \n",
       "3                                  0                        0   \n",
       "4                                  0                        0   \n",
       "...                              ...                      ...   \n",
       "260596                             0                        0   \n",
       "260597                             0                        0   \n",
       "260598                             0                        0   \n",
       "260599                             0                        0   \n",
       "260600                             0                        0   \n",
       "\n",
       "       has_secondary_use_industry has_secondary_use_health_post  \\\n",
       "0                               0                             0   \n",
       "1                               0                             0   \n",
       "2                               0                             0   \n",
       "3                               0                             0   \n",
       "4                               0                             0   \n",
       "...                           ...                           ...   \n",
       "260596                          0                             0   \n",
       "260597                          0                             0   \n",
       "260598                          0                             0   \n",
       "260599                          0                             0   \n",
       "260600                          0                             0   \n",
       "\n",
       "        has_secondary_use_gov_office  has_secondary_use_use_police  \\\n",
       "0                                  0                             0   \n",
       "1                                  0                             0   \n",
       "2                                  0                             0   \n",
       "3                                  0                             0   \n",
       "4                                  0                             0   \n",
       "...                              ...                           ...   \n",
       "260596                             0                             0   \n",
       "260597                             0                             0   \n",
       "260598                             0                             0   \n",
       "260599                             0                             0   \n",
       "260600                             0                             0   \n",
       "\n",
       "        has_secondary_use_other  Unnamed: 39  damage_grade  \n",
       "0                             0          NaN             3  \n",
       "1                             0          NaN             2  \n",
       "2                             0          NaN             3  \n",
       "3                             0          NaN             2  \n",
       "4                             0          NaN             3  \n",
       "...                         ...          ...           ...  \n",
       "260596                        0          NaN             2  \n",
       "260597                        0          NaN             3  \n",
       "260598                        0          NaN             3  \n",
       "260599                        0          NaN             2  \n",
       "260600                        0          NaN             3  \n",
       "\n",
       "[260601 rows x 41 columns]"
      ]
     },
     "execution_count": 41,
     "metadata": {},
     "output_type": "execute_result"
    }
   ],
   "source": [
    "ei"
   ]
  },
  {
   "cell_type": "code",
   "execution_count": 42,
   "id": "181eddd0",
   "metadata": {},
   "outputs": [
    {
     "data": {
      "text/plain": [
       "Unnamed: 39    260601\n",
       "dtype: int64"
      ]
     },
     "execution_count": 42,
     "metadata": {},
     "output_type": "execute_result"
    }
   ],
   "source": [
    "ei.isnull().sum()[ei.isnull().sum() / ei.shape[0] *100 >40]"
   ]
  },
  {
   "cell_type": "code",
   "execution_count": 43,
   "id": "5cc30024",
   "metadata": {
    "scrolled": true
   },
   "outputs": [
    {
     "name": "stdout",
     "output_type": "stream",
     "text": [
      "<class 'pandas.core.frame.DataFrame'>\n",
      "RangeIndex: 260601 entries, 0 to 260600\n",
      "Data columns (total 41 columns):\n",
      " #   Column                                  Non-Null Count   Dtype  \n",
      "---  ------                                  --------------   -----  \n",
      " 0   building_id                             260601 non-null  int64  \n",
      " 1   geo_level_1_id                          260601 non-null  int64  \n",
      " 2   geo_level_2_id                          260601 non-null  int64  \n",
      " 3   geo_level_3_id                          260601 non-null  int64  \n",
      " 4   count_floors_pre_eq                     260601 non-null  int64  \n",
      " 5   age                                     260601 non-null  int64  \n",
      " 6   area_percentage                         260601 non-null  int64  \n",
      " 7   height_percentage                       260601 non-null  int64  \n",
      " 8   land_surface_condition                  260601 non-null  object \n",
      " 9   foundation_type                         260601 non-null  object \n",
      " 10  roof_type                               260601 non-null  object \n",
      " 11  ground_floor_type                       260601 non-null  object \n",
      " 12  other_floor_type                        260601 non-null  object \n",
      " 13  position                                260601 non-null  object \n",
      " 14  plan_configuration                      260601 non-null  object \n",
      " 15  has_superstructure_adobe_mud            260601 non-null  int64  \n",
      " 16  has_superstructure_mud_mortar_stone     260601 non-null  int64  \n",
      " 17  has_superstructure_stone_flag           260601 non-null  int64  \n",
      " 18  has_superstructure_cement_mortar_stone  260601 non-null  int64  \n",
      " 19  has_superstructure_mud_mortar_brick     260601 non-null  int64  \n",
      " 20  has_superstructure_cement_mortar_brick  260601 non-null  int64  \n",
      " 21  has_superstructure_timber               260601 non-null  int64  \n",
      " 22  has_superstructure_bamboo               260601 non-null  int64  \n",
      " 23  has_superstructure_rc_non_engineered    260601 non-null  int64  \n",
      " 24  has_superstructure_rc_engineered        260601 non-null  int64  \n",
      " 25  has_superstructure_other                260601 non-null  int64  \n",
      " 26  legal_ownership_status                  260601 non-null  object \n",
      " 27  count_families                          260601 non-null  int64  \n",
      " 28  has_secondary_use                       260601 non-null  int64  \n",
      " 29  has_secondary_use_agriculture           260601 non-null  int64  \n",
      " 30  has_secondary_use_hotel                 260601 non-null  int64  \n",
      " 31  has_secondary_use_rental                260601 non-null  int64  \n",
      " 32  has_secondary_use_institution           260601 non-null  int64  \n",
      " 33  has_secondary_use_school                260601 non-null  int64  \n",
      " 34  has_secondary_use_industry              260601 non-null  int64  \n",
      " 35  has_secondary_use_health_post           260601 non-null  int64  \n",
      " 36  has_secondary_use_gov_office            260601 non-null  int64  \n",
      " 37  has_secondary_use_use_police            260601 non-null  int64  \n",
      " 38  has_secondary_use_other                 260601 non-null  int64  \n",
      " 39  Unnamed: 39                             0 non-null       float64\n",
      " 40  damage_grade                            260601 non-null  int64  \n",
      "dtypes: float64(1), int64(32), object(8)\n",
      "memory usage: 81.5+ MB\n"
     ]
    }
   ],
   "source": [
    "ei.info()"
   ]
  },
  {
   "cell_type": "code",
   "execution_count": 44,
   "id": "a10c619f",
   "metadata": {},
   "outputs": [
    {
     "data": {
      "text/plain": [
       "v    250939\n",
       "a      5512\n",
       "w      2677\n",
       "r      1473\n",
       "Name: legal_ownership_status, dtype: int64"
      ]
     },
     "execution_count": 44,
     "metadata": {},
     "output_type": "execute_result"
    }
   ],
   "source": [
    "ei.legal_ownership_status.value_counts()"
   ]
  },
  {
   "cell_type": "code",
   "execution_count": 45,
   "id": "15e6d661",
   "metadata": {},
   "outputs": [],
   "source": [
    "from sklearn.preprocessing import LabelEncoder\n",
    "le =LabelEncoder()"
   ]
  },
  {
   "cell_type": "code",
   "execution_count": 46,
   "id": "d37eae89",
   "metadata": {},
   "outputs": [],
   "source": [
    "ei.land_surface_condition = le.fit_transform(ei.land_surface_condition)\n",
    "ei.foundation_type = le.fit_transform(ei.foundation_type)\n",
    "ei.roof_type = le.fit_transform(ei.roof_type)\n",
    "ei.ground_floor_type = le.fit_transform(ei.ground_floor_type)\n",
    "ei.other_floor_type = le.fit_transform(ei.other_floor_type)\n",
    "ei.position = le.fit_transform(ei.position)\n",
    "ei.plan_configuration = le.fit_transform(ei.plan_configuration)\n",
    "ei.legal_ownership_status = le.fit_transform(ei.legal_ownership_status)"
   ]
  },
  {
   "cell_type": "code",
   "execution_count": 47,
   "id": "f58ceef9",
   "metadata": {},
   "outputs": [],
   "source": [
    "ei = ei.drop(['Unnamed: 39', 'land_surface_condition' , 'count_floors_pre_eq' , 'foundation_type','ground_floor_type' , 'has_superstructure_timber' ,'plan_configuration','has_secondary_use',\n",
    "             'legal_ownership_status','has_superstructure_bamboo','has_superstructure_stone_flag' ,'has_secondary_use_agriculture',\n",
    "             'has_superstructure_cement_mortar_brick' ,'has_superstructure_adobe_mud' ,'has_superstructure_mud_mortar_brick',\n",
    "             'has_secondary_use_hotel' , 'has_superstructure_rc_non_engineered', 'has_superstructure_cement_mortar_stone',\n",
    "             'has_superstructure_other', 'has_superstructure_rc_engineered', 'has_secondary_use_rental',\n",
    "             'has_secondary_use_other','has_secondary_use_industry','has_secondary_use_institution',\n",
    "             'has_secondary_use_school','has_secondary_use_health_post','has_secondary_use_use_police',\n",
    "             'has_secondary_use_gov_office'] ,axis = 1)"
   ]
  },
  {
   "cell_type": "code",
   "execution_count": 48,
   "id": "0ddbf191",
   "metadata": {},
   "outputs": [
    {
     "data": {
      "text/plain": [
       "building_id                            0\n",
       "geo_level_1_id                         0\n",
       "geo_level_2_id                         0\n",
       "geo_level_3_id                         0\n",
       "age                                    0\n",
       "area_percentage                        0\n",
       "height_percentage                      0\n",
       "roof_type                              0\n",
       "other_floor_type                       0\n",
       "position                               0\n",
       "has_superstructure_mud_mortar_stone    0\n",
       "count_families                         0\n",
       "damage_grade                           0\n",
       "dtype: int64"
      ]
     },
     "execution_count": 48,
     "metadata": {},
     "output_type": "execute_result"
    }
   ],
   "source": [
    "ei.isnull().sum()"
   ]
  },
  {
   "cell_type": "code",
   "execution_count": 49,
   "id": "6d5ff80d",
   "metadata": {},
   "outputs": [
    {
     "data": {
      "text/plain": [
       "(260601, 13)"
      ]
     },
     "execution_count": 49,
     "metadata": {},
     "output_type": "execute_result"
    }
   ],
   "source": [
    "ei.shape"
   ]
  },
  {
   "cell_type": "code",
   "execution_count": 50,
   "id": "cee0aa0b",
   "metadata": {},
   "outputs": [],
   "source": [
    "from sklearn.model_selection import train_test_split"
   ]
  },
  {
   "cell_type": "code",
   "execution_count": 51,
   "id": "14f22ff4",
   "metadata": {},
   "outputs": [],
   "source": [
    "ei_train , ei_test = train_test_split(ei , test_size =.2)"
   ]
  },
  {
   "cell_type": "code",
   "execution_count": 52,
   "id": "5f732e4b",
   "metadata": {
    "scrolled": true
   },
   "outputs": [],
   "source": [
    "#ei1 = ei_train[ei.damage_grade == 1]"
   ]
  },
  {
   "cell_type": "code",
   "execution_count": 53,
   "id": "b6c71ece",
   "metadata": {},
   "outputs": [],
   "source": [
    "#ei_train_1 = pd.concat([ei_train , ei1 , ei1,ei1 , ei1, ei1, ei1, ei1,ei1,ei1] )\n",
    "#ei_train_1.shape"
   ]
  },
  {
   "cell_type": "code",
   "execution_count": 54,
   "id": "7b79e690",
   "metadata": {},
   "outputs": [],
   "source": [
    "ei_train_x = ei_train.iloc[: , 1:-1]\n",
    "ei_train_y = ei_train.iloc[: , -1]\n",
    "ei_test_x = ei_test.iloc[: , 1:-1]\n",
    "ei_test_y = ei_test.iloc[: , -1]"
   ]
  },
  {
   "cell_type": "code",
   "execution_count": 55,
   "id": "4c0c632a",
   "metadata": {},
   "outputs": [],
   "source": [
    "from sklearn.tree import DecisionTreeClassifier"
   ]
  },
  {
   "cell_type": "code",
   "execution_count": 56,
   "id": "7c17a1da",
   "metadata": {},
   "outputs": [],
   "source": [
    "dt =  DecisionTreeClassifier(criterion='entropy' , class_weight='balanced' )"
   ]
  },
  {
   "cell_type": "code",
   "execution_count": 57,
   "id": "c69d0dec",
   "metadata": {},
   "outputs": [
    {
     "data": {
      "text/plain": [
       "DecisionTreeClassifier(class_weight='balanced', criterion='entropy')"
      ]
     },
     "execution_count": 57,
     "metadata": {},
     "output_type": "execute_result"
    }
   ],
   "source": [
    "dt.fit(ei_train_x ,ei_train_y)"
   ]
  },
  {
   "cell_type": "code",
   "execution_count": 58,
   "id": "d5be4163",
   "metadata": {},
   "outputs": [],
   "source": [
    "pred = dt.predict(ei_test_x)"
   ]
  },
  {
   "cell_type": "code",
   "execution_count": 59,
   "id": "8bffeb9e",
   "metadata": {},
   "outputs": [],
   "source": [
    "from sklearn.metrics import confusion_matrix"
   ]
  },
  {
   "cell_type": "code",
   "execution_count": 60,
   "id": "6cde2d1c",
   "metadata": {},
   "outputs": [],
   "source": [
    "tab1 =confusion_matrix(ei_test_y , pred)"
   ]
  },
  {
   "cell_type": "code",
   "execution_count": 61,
   "id": "12cf3d63",
   "metadata": {
    "scrolled": true
   },
   "outputs": [
    {
     "data": {
      "text/plain": [
       "array([[ 2592,  2082,   354],\n",
       "       [ 2375, 20321,  6977],\n",
       "       [  356,  6197, 10867]], dtype=int64)"
      ]
     },
     "execution_count": 61,
     "metadata": {},
     "output_type": "execute_result"
    }
   ],
   "source": [
    "tab1"
   ]
  },
  {
   "cell_type": "code",
   "execution_count": 65,
   "id": "8ebbc47f",
   "metadata": {},
   "outputs": [],
   "source": [
    "from sklearn.metrics import accuracy_score ,precision_score , recall_score , f1_score"
   ]
  },
  {
   "cell_type": "code",
   "execution_count": 66,
   "id": "d585f840",
   "metadata": {},
   "outputs": [
    {
     "data": {
      "text/plain": [
       "64.81072888087336"
      ]
     },
     "execution_count": 66,
     "metadata": {},
     "output_type": "execute_result"
    }
   ],
   "source": [
    "Acc = tab1.diagonal().sum() *100 / tab1.sum()\n",
    "Acc"
   ]
  },
  {
   "cell_type": "code",
   "execution_count": 67,
   "id": "786b9512",
   "metadata": {},
   "outputs": [
    {
     "data": {
      "text/plain": [
       "0.6080558821229055"
      ]
     },
     "execution_count": 67,
     "metadata": {},
     "output_type": "execute_result"
    }
   ],
   "source": [
    "recall_score(ei_test_y , pred , average='macro')"
   ]
  },
  {
   "cell_type": "code",
   "execution_count": 68,
   "id": "120d9406",
   "metadata": {},
   "outputs": [
    {
     "data": {
      "text/plain": [
       "0.5982071539399535"
      ]
     },
     "execution_count": 68,
     "metadata": {},
     "output_type": "execute_result"
    }
   ],
   "source": [
    "precision_score(ei_test_y , pred , average='macro')"
   ]
  },
  {
   "cell_type": "code",
   "execution_count": 69,
   "id": "d72a26ee",
   "metadata": {
    "scrolled": true
   },
   "outputs": [
    {
     "data": {
      "text/plain": [
       "0.6028198738949387"
      ]
     },
     "execution_count": 69,
     "metadata": {},
     "output_type": "execute_result"
    }
   ],
   "source": [
    "f1_score(ei_test_y , pred , average='macro')"
   ]
  },
  {
   "cell_type": "markdown",
   "id": "98668d11",
   "metadata": {},
   "source": [
    "### feature selection"
   ]
  },
  {
   "cell_type": "code",
   "execution_count": 70,
   "id": "ea219c1d",
   "metadata": {},
   "outputs": [
    {
     "data": {
      "text/plain": [
       "array([0.17121815, 0.12629695, 0.15375935, 0.13850605, 0.12627559,\n",
       "       0.06898785, 0.02874146, 0.02603465, 0.02601644, 0.10845906,\n",
       "       0.02570446])"
      ]
     },
     "execution_count": 70,
     "metadata": {},
     "output_type": "execute_result"
    }
   ],
   "source": [
    "dt.feature_importances_"
   ]
  },
  {
   "cell_type": "code",
   "execution_count": 71,
   "id": "680bad79",
   "metadata": {},
   "outputs": [],
   "source": [
    "feature_importance = pd.DataFrame()"
   ]
  },
  {
   "cell_type": "code",
   "execution_count": 72,
   "id": "1a2dc716",
   "metadata": {},
   "outputs": [],
   "source": [
    "feature_importance['Feature'] = ei_test_x.columns\n",
    "feature_importance['Score'] = dt.feature_importances_"
   ]
  },
  {
   "cell_type": "code",
   "execution_count": 73,
   "id": "584adaf5",
   "metadata": {},
   "outputs": [
    {
     "data": {
      "text/html": [
       "<div>\n",
       "<style scoped>\n",
       "    .dataframe tbody tr th:only-of-type {\n",
       "        vertical-align: middle;\n",
       "    }\n",
       "\n",
       "    .dataframe tbody tr th {\n",
       "        vertical-align: top;\n",
       "    }\n",
       "\n",
       "    .dataframe thead th {\n",
       "        text-align: right;\n",
       "    }\n",
       "</style>\n",
       "<table border=\"1\" class=\"dataframe\">\n",
       "  <thead>\n",
       "    <tr style=\"text-align: right;\">\n",
       "      <th></th>\n",
       "      <th>Feature</th>\n",
       "      <th>Score</th>\n",
       "    </tr>\n",
       "  </thead>\n",
       "  <tbody>\n",
       "    <tr>\n",
       "      <th>0</th>\n",
       "      <td>geo_level_1_id</td>\n",
       "      <td>0.171218</td>\n",
       "    </tr>\n",
       "    <tr>\n",
       "      <th>2</th>\n",
       "      <td>geo_level_3_id</td>\n",
       "      <td>0.153759</td>\n",
       "    </tr>\n",
       "    <tr>\n",
       "      <th>3</th>\n",
       "      <td>age</td>\n",
       "      <td>0.138506</td>\n",
       "    </tr>\n",
       "    <tr>\n",
       "      <th>1</th>\n",
       "      <td>geo_level_2_id</td>\n",
       "      <td>0.126297</td>\n",
       "    </tr>\n",
       "    <tr>\n",
       "      <th>4</th>\n",
       "      <td>area_percentage</td>\n",
       "      <td>0.126276</td>\n",
       "    </tr>\n",
       "    <tr>\n",
       "      <th>9</th>\n",
       "      <td>has_superstructure_mud_mortar_stone</td>\n",
       "      <td>0.108459</td>\n",
       "    </tr>\n",
       "    <tr>\n",
       "      <th>5</th>\n",
       "      <td>height_percentage</td>\n",
       "      <td>0.068988</td>\n",
       "    </tr>\n",
       "    <tr>\n",
       "      <th>6</th>\n",
       "      <td>roof_type</td>\n",
       "      <td>0.028741</td>\n",
       "    </tr>\n",
       "    <tr>\n",
       "      <th>7</th>\n",
       "      <td>other_floor_type</td>\n",
       "      <td>0.026035</td>\n",
       "    </tr>\n",
       "    <tr>\n",
       "      <th>8</th>\n",
       "      <td>position</td>\n",
       "      <td>0.026016</td>\n",
       "    </tr>\n",
       "    <tr>\n",
       "      <th>10</th>\n",
       "      <td>count_families</td>\n",
       "      <td>0.025704</td>\n",
       "    </tr>\n",
       "  </tbody>\n",
       "</table>\n",
       "</div>"
      ],
      "text/plain": [
       "                                Feature     Score\n",
       "0                        geo_level_1_id  0.171218\n",
       "2                        geo_level_3_id  0.153759\n",
       "3                                   age  0.138506\n",
       "1                        geo_level_2_id  0.126297\n",
       "4                       area_percentage  0.126276\n",
       "9   has_superstructure_mud_mortar_stone  0.108459\n",
       "5                     height_percentage  0.068988\n",
       "6                             roof_type  0.028741\n",
       "7                      other_floor_type  0.026035\n",
       "8                              position  0.026016\n",
       "10                       count_families  0.025704"
      ]
     },
     "execution_count": 73,
     "metadata": {},
     "output_type": "execute_result"
    }
   ],
   "source": [
    "feature_importance.sort_values('Score' , ascending = False)"
   ]
  },
  {
   "cell_type": "markdown",
   "id": "bc6f5d58",
   "metadata": {},
   "source": [
    "## Random forest"
   ]
  },
  {
   "cell_type": "code",
   "execution_count": 105,
   "id": "fdb3bfc4",
   "metadata": {},
   "outputs": [],
   "source": [
    "from sklearn.ensemble import RandomForestClassifier\n"
   ]
  },
  {
   "cell_type": "code",
   "execution_count": 106,
   "id": "f50346a6",
   "metadata": {},
   "outputs": [],
   "source": [
    "rfc = RandomForestClassifier(n_estimators=1000)\n",
    "#250  79.1037777479327\n",
    "# 650 72.29180176896068\n",
    "# 550 79.25151090731183\n",
    "# 950 77.17284779647359\n",
    "# 550,    61.15567621496135\n",
    "# 1000  85.1591853571497"
   ]
  },
  {
   "cell_type": "code",
   "execution_count": 107,
   "id": "93eb4557",
   "metadata": {},
   "outputs": [
    {
     "data": {
      "text/plain": [
       "RandomForestClassifier(n_estimators=1000)"
      ]
     },
     "execution_count": 107,
     "metadata": {},
     "output_type": "execute_result"
    }
   ],
   "source": [
    "rfc.fit( ei_train_x , ei_train_y)\n"
   ]
  },
  {
   "cell_type": "code",
   "execution_count": 108,
   "id": "85d14d68",
   "metadata": {},
   "outputs": [],
   "source": [
    "pred = rfc.predict(ei_test_x)\n"
   ]
  },
  {
   "cell_type": "code",
   "execution_count": 109,
   "id": "189eaa3a",
   "metadata": {},
   "outputs": [],
   "source": [
    "from sklearn.metrics import confusion_matrix\n"
   ]
  },
  {
   "cell_type": "code",
   "execution_count": 110,
   "id": "8909a0c0",
   "metadata": {},
   "outputs": [],
   "source": [
    "tab1 =confusion_matrix(ei_test_y , pred)\n"
   ]
  },
  {
   "cell_type": "code",
   "execution_count": 111,
   "id": "3bc4a34f",
   "metadata": {},
   "outputs": [
    {
     "data": {
      "text/plain": [
       "85.1591853571497"
      ]
     },
     "execution_count": 111,
     "metadata": {},
     "output_type": "execute_result"
    }
   ],
   "source": [
    "Acc = tab1.diagonal().sum() *100 / tab1.sum()\n",
    "Acc"
   ]
  },
  {
   "cell_type": "code",
   "execution_count": 112,
   "id": "45f5a6d6",
   "metadata": {
    "scrolled": true
   },
   "outputs": [
    {
     "data": {
      "text/plain": [
       "0.821598453572234"
      ]
     },
     "execution_count": 112,
     "metadata": {},
     "output_type": "execute_result"
    }
   ],
   "source": [
    "recall_score(ei_test_y , pred , average='macro')"
   ]
  },
  {
   "cell_type": "code",
   "execution_count": 113,
   "id": "888cf92a",
   "metadata": {
    "scrolled": true
   },
   "outputs": [
    {
     "data": {
      "text/plain": [
       "0.809453433263423"
      ]
     },
     "execution_count": 113,
     "metadata": {},
     "output_type": "execute_result"
    }
   ],
   "source": [
    "precision_score(ei_test_y , pred , average='macro')"
   ]
  },
  {
   "cell_type": "code",
   "execution_count": 114,
   "id": "4d077a25",
   "metadata": {},
   "outputs": [
    {
     "data": {
      "text/plain": [
       "0.801232345368966"
      ]
     },
     "execution_count": 114,
     "metadata": {},
     "output_type": "execute_result"
    }
   ],
   "source": [
    "f1_score(ei_test_y , pred , average='macro')"
   ]
  },
  {
   "cell_type": "markdown",
   "id": "6cfaa980",
   "metadata": {},
   "source": [
    "## Logistic Regression"
   ]
  },
  {
   "cell_type": "code",
   "execution_count": 115,
   "id": "0a6425ad",
   "metadata": {},
   "outputs": [],
   "source": [
    "from sklearn.linear_model import LogisticRegression"
   ]
  },
  {
   "cell_type": "code",
   "execution_count": 116,
   "id": "ddc5733c",
   "metadata": {},
   "outputs": [],
   "source": [
    "logreg = LogisticRegression()"
   ]
  },
  {
   "cell_type": "code",
   "execution_count": 117,
   "id": "6216a380",
   "metadata": {},
   "outputs": [
    {
     "name": "stderr",
     "output_type": "stream",
     "text": [
      "C:\\anaconda\\lib\\site-packages\\sklearn\\linear_model\\_logistic.py:814: ConvergenceWarning: lbfgs failed to converge (status=1):\n",
      "STOP: TOTAL NO. of ITERATIONS REACHED LIMIT.\n",
      "\n",
      "Increase the number of iterations (max_iter) or scale the data as shown in:\n",
      "    https://scikit-learn.org/stable/modules/preprocessing.html\n",
      "Please also refer to the documentation for alternative solver options:\n",
      "    https://scikit-learn.org/stable/modules/linear_model.html#logistic-regression\n",
      "  n_iter_i = _check_optimize_result(\n"
     ]
    },
    {
     "data": {
      "text/plain": [
       "LogisticRegression()"
      ]
     },
     "execution_count": 117,
     "metadata": {},
     "output_type": "execute_result"
    }
   ],
   "source": [
    "logreg.fit(ei_train_x , ei_train_y)"
   ]
  },
  {
   "cell_type": "code",
   "execution_count": 118,
   "id": "04c9bf2c",
   "metadata": {},
   "outputs": [
    {
     "data": {
      "text/plain": [
       "array([2, 2, 2, ..., 2, 2, 2], dtype=int64)"
      ]
     },
     "execution_count": 118,
     "metadata": {},
     "output_type": "execute_result"
    }
   ],
   "source": [
    "pred = logreg.predict(ei_test_x)\n",
    "pred"
   ]
  },
  {
   "cell_type": "code",
   "execution_count": 119,
   "id": "aa346272",
   "metadata": {},
   "outputs": [],
   "source": [
    "from sklearn.metrics import confusion_matrix"
   ]
  },
  {
   "cell_type": "code",
   "execution_count": 120,
   "id": "c2abb935",
   "metadata": {},
   "outputs": [],
   "source": [
    "tab1 = confusion_matrix(ei_test_y , pred)"
   ]
  },
  {
   "cell_type": "code",
   "execution_count": 121,
   "id": "4d94dd30",
   "metadata": {},
   "outputs": [
    {
     "data": {
      "text/plain": [
       "array([[   22,  4991,    15],\n",
       "       [   12, 29567,    94],\n",
       "       [    1, 17363,    56]], dtype=int64)"
      ]
     },
     "execution_count": 121,
     "metadata": {},
     "output_type": "execute_result"
    }
   ],
   "source": [
    "tab1"
   ]
  },
  {
   "cell_type": "code",
   "execution_count": 122,
   "id": "38f500fd",
   "metadata": {},
   "outputs": [
    {
     "data": {
      "text/plain": [
       "56.877266360967745"
      ]
     },
     "execution_count": 122,
     "metadata": {},
     "output_type": "execute_result"
    }
   ],
   "source": [
    "Acc = tab1.diagonal().sum() *100 / tab1.sum()\n",
    "Acc"
   ]
  },
  {
   "cell_type": "code",
   "execution_count": 123,
   "id": "dbb2a5c6",
   "metadata": {},
   "outputs": [
    {
     "data": {
      "text/plain": [
       "0.33467264062646906"
      ]
     },
     "execution_count": 123,
     "metadata": {},
     "output_type": "execute_result"
    }
   ],
   "source": [
    "recall_score(ei_test_y , pred , average='macro')"
   ]
  },
  {
   "cell_type": "code",
   "execution_count": 124,
   "id": "7328fbbb",
   "metadata": {},
   "outputs": [
    {
     "data": {
      "text/plain": [
       "0.5124755549785884"
      ]
     },
     "execution_count": 124,
     "metadata": {},
     "output_type": "execute_result"
    }
   ],
   "source": [
    "precision_score(ei_test_y , pred , average='macro')"
   ]
  },
  {
   "cell_type": "code",
   "execution_count": 125,
   "id": "5dc4dc9a",
   "metadata": {},
   "outputs": [
    {
     "data": {
      "text/plain": [
       "0.24659807536992331"
      ]
     },
     "execution_count": 125,
     "metadata": {},
     "output_type": "execute_result"
    }
   ],
   "source": [
    "f1_score(ei_test_y , pred , average='macro')"
   ]
  }
 ],
 "metadata": {
  "kernelspec": {
   "display_name": "Python 3 (ipykernel)",
   "language": "python",
   "name": "python3"
  },
  "language_info": {
   "codemirror_mode": {
    "name": "ipython",
    "version": 3
   },
   "file_extension": ".py",
   "mimetype": "text/x-python",
   "name": "python",
   "nbconvert_exporter": "python",
   "pygments_lexer": "ipython3",
   "version": "3.9.13"
  }
 },
 "nbformat": 4,
 "nbformat_minor": 5
}
